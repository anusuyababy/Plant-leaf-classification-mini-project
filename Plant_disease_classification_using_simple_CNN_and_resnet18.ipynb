{
  "cells": [
    {
      "cell_type": "markdown",
      "source": [
        "# MINI PROJECT\n"
      ],
      "metadata": {
        "id": "tmZL0TgnSDNS"
      }
    },
    {
      "cell_type": "markdown",
      "metadata": {
        "id": "cxehY2ruS5Ez"
      },
      "source": [
        "### PLANT DISEASE IMAGE CLASSIFICATION"
      ]
    },
    {
      "cell_type": "code",
      "execution_count": 1,
      "metadata": {
        "id": "khCPkbZXTxyM"
      },
      "outputs": [],
      "source": [
        "#importing important libraries\n",
        "# Imports\n",
        "#not all used\n",
        "import numpy as np\n",
        "import pandas as pd\n",
        "from pathlib import Path\n",
        "import os.path\n",
        "import matplotlib.pyplot as plt\n",
        "import tensorflow as tf\n",
        "from fastai import *\n",
        "from fastai.vision import *\n",
        "from fastai.metrics import error_rate\n",
        "import torch\n",
        "import torch.nn as nn\n",
        "import torch.nn.functional as F\n",
        "import torch.optim as optim\n",
        "import torch.utils.data as data\n",
        "import torchvision.transforms as transforms\n",
        "import torchvision.datasets as datasets\n",
        "from keras.models import Sequential\n",
        "from keras import layers\n",
        "from keras.layers import Conv2D, MaxPooling2D, Activation, Dropout, Flatten, Dense\n",
        "from tensorflow.keras.utils import img_to_array,  load_img\n",
        "import matplotlib.pyplot as plt\n",
        "from PIL import Image\n",
        "from glob import glob"
      ]
    },
    {
      "cell_type": "code",
      "source": [
        "import torch\n",
        "import torch.nn as nn\n",
        "import torch.optim as optim\n",
        "from torchvision import datasets, transforms\n",
        "from torch.utils.data import DataLoader\n",
        "import torchvision.models as models"
      ],
      "metadata": {
        "id": "2wYNbZguKkGM"
      },
      "execution_count": 2,
      "outputs": []
    },
    {
      "cell_type": "code",
      "source": [
        "!unzip \"/content/cotton.zip\""
      ],
      "metadata": {
        "colab": {
          "base_uri": "https://localhost:8080/"
        },
        "id": "8NxqNjL61UDr",
        "outputId": "777fdfa4-ae8f-48f6-9d73-25ce941b6569"
      },
      "execution_count": 3,
      "outputs": [
        {
          "output_type": "stream",
          "name": "stdout",
          "text": [
            "Archive:  /content/cotton.zip\n",
            "   creating: cotton/\n",
            "   creating: cotton/test/\n",
            "   creating: cotton/test/diseased cotton leaf/\n",
            "  inflating: cotton/test/diseased cotton leaf/dis_leaf (124).jpg  \n",
            "  inflating: cotton/test/diseased cotton leaf/dis_leaf (153)_iaip.jpg  \n",
            "  inflating: cotton/test/diseased cotton leaf/dis_leaf (175)_iaip.jpg  \n",
            "  inflating: cotton/test/diseased cotton leaf/dis_leaf (183)_iaip.jpg  \n",
            "  inflating: cotton/test/diseased cotton leaf/dis_leaf (193)_iaip.jpg  \n",
            "  inflating: cotton/test/diseased cotton leaf/dis_leaf (194)_iaip.jpg  \n",
            "   creating: cotton/test/fresh cotton leaf/\n",
            "  inflating: cotton/test/fresh cotton leaf/d (40)_iaip - Copy.jpg  \n",
            "  inflating: cotton/test/fresh cotton leaf/d (61)_iaip - Copy.jpg  \n",
            "  inflating: cotton/test/fresh cotton leaf/d (63)_iaip - Copy.jpg  \n",
            "  inflating: cotton/test/fresh cotton leaf/d (7)_iaip.jpg  \n",
            "  inflating: cotton/test/fresh cotton leaf/d (8)_iaip.jpg  \n",
            "   creating: cotton/train/\n",
            "   creating: cotton/train/diseased cotton leaf/\n",
            "  inflating: cotton/train/diseased cotton leaf/dis_leaf (1)_iaip.jpg  \n",
            "  inflating: cotton/train/diseased cotton leaf/dis_leaf (10)_iaip.jpg  \n",
            "  inflating: cotton/train/diseased cotton leaf/dis_leaf (11)_iaip.jpg  \n",
            "  inflating: cotton/train/diseased cotton leaf/dis_leaf (13)_iaip.jpg  \n",
            "  inflating: cotton/train/diseased cotton leaf/dis_leaf (14)_iaip.jpg  \n",
            "  inflating: cotton/train/diseased cotton leaf/dis_leaf (15)_iaip.jpg  \n",
            "  inflating: cotton/train/diseased cotton leaf/dis_leaf (16)_iaip.jpg  \n",
            "  inflating: cotton/train/diseased cotton leaf/dis_leaf (18)_iaip.jpg  \n",
            "  inflating: cotton/train/diseased cotton leaf/dis_leaf (2)_iaip.jpg  \n",
            "  inflating: cotton/train/diseased cotton leaf/dis_leaf (20)_iaip.jpg  \n",
            "  inflating: cotton/train/diseased cotton leaf/dis_leaf (21)_iaip.jpg  \n",
            "  inflating: cotton/train/diseased cotton leaf/dis_leaf (22)_iaip.jpg  \n",
            "  inflating: cotton/train/diseased cotton leaf/dis_leaf (23)_iaip.jpg  \n",
            "  inflating: cotton/train/diseased cotton leaf/dis_leaf (24)_iaip.jpg  \n",
            "  inflating: cotton/train/diseased cotton leaf/dis_leaf (25)_iaip.jpg  \n",
            "  inflating: cotton/train/diseased cotton leaf/dis_leaf (26)_iaip.jpg  \n",
            "  inflating: cotton/train/diseased cotton leaf/dis_leaf (27)_iaip.jpg  \n",
            "  inflating: cotton/train/diseased cotton leaf/dis_leaf (28)_iaip.jpg  \n",
            "  inflating: cotton/train/diseased cotton leaf/dis_leaf (29)_iaip.jpg  \n",
            "  inflating: cotton/train/diseased cotton leaf/dis_leaf (3)_iaip.jpg  \n",
            "  inflating: cotton/train/diseased cotton leaf/dis_leaf (30)_iaip.jpg  \n",
            "  inflating: cotton/train/diseased cotton leaf/dis_leaf (31)_iaip.jpg  \n",
            "  inflating: cotton/train/diseased cotton leaf/dis_leaf (32)_iaip.jpg  \n",
            "  inflating: cotton/train/diseased cotton leaf/dis_leaf (334)_iaip.jpg  \n",
            "  inflating: cotton/train/diseased cotton leaf/dis_leaf (335)_iaip.jpg  \n",
            "  inflating: cotton/train/diseased cotton leaf/dis_leaf (336)_iaip.jpg  \n",
            "  inflating: cotton/train/diseased cotton leaf/dis_leaf (337)_iaip.jpg  \n",
            "  inflating: cotton/train/diseased cotton leaf/dis_leaf (338)_iaip.jpg  \n",
            "  inflating: cotton/train/diseased cotton leaf/dis_leaf (339)_iaip.jpg  \n",
            "  inflating: cotton/train/diseased cotton leaf/dis_leaf (34)_iaip.jpg  \n",
            "  inflating: cotton/train/diseased cotton leaf/dis_leaf (340)_iaip.jpg  \n",
            "  inflating: cotton/train/diseased cotton leaf/dis_leaf (343)_iaip.jpg  \n",
            "  inflating: cotton/train/diseased cotton leaf/dis_leaf (344)_iaip.jpg  \n",
            "  inflating: cotton/train/diseased cotton leaf/dis_leaf (345)_iaip.jpg  \n",
            "  inflating: cotton/train/diseased cotton leaf/dis_leaf (346)_iaip.jpg  \n",
            "  inflating: cotton/train/diseased cotton leaf/dis_leaf (35)_iaip.jpg  \n",
            "  inflating: cotton/train/diseased cotton leaf/dis_leaf (36)_iaip.jpg  \n",
            "  inflating: cotton/train/diseased cotton leaf/dis_leaf (38)_iaip.jpg  \n",
            "  inflating: cotton/train/diseased cotton leaf/dis_leaf (39)_iaip.jpg  \n",
            "  inflating: cotton/train/diseased cotton leaf/dis_leaf (4)_iaip.jpg  \n",
            "  inflating: cotton/train/diseased cotton leaf/dis_leaf (40)_iaip.jpg  \n",
            "  inflating: cotton/train/diseased cotton leaf/dis_leaf (41)_iaip.jpg  \n",
            "  inflating: cotton/train/diseased cotton leaf/dis_leaf (42)_iaip.jpg  \n",
            "  inflating: cotton/train/diseased cotton leaf/dis_leaf (43)_iaip.jpg  \n",
            "  inflating: cotton/train/diseased cotton leaf/dis_leaf (45)_iaip.jpg  \n",
            "  inflating: cotton/train/diseased cotton leaf/dis_leaf (46)_iaip.jpg  \n",
            "  inflating: cotton/train/diseased cotton leaf/dis_leaf (47)_iaip.jpg  \n",
            "  inflating: cotton/train/diseased cotton leaf/dis_leaf (48)_iaip.jpg  \n",
            "  inflating: cotton/train/diseased cotton leaf/dis_leaf (49)_iaip.jpg  \n",
            "  inflating: cotton/train/diseased cotton leaf/dis_leaf (5)_iaip.jpg  \n",
            "  inflating: cotton/train/diseased cotton leaf/dis_leaf (50)_iaip.jpg  \n",
            "  inflating: cotton/train/diseased cotton leaf/dis_leaf (51)_iaip.jpg  \n",
            "  inflating: cotton/train/diseased cotton leaf/dis_leaf (53)_iaip.jpg  \n",
            "  inflating: cotton/train/diseased cotton leaf/dis_leaf (54)_iaip.jpg  \n",
            "  inflating: cotton/train/diseased cotton leaf/dis_leaf (55)_iaip.jpg  \n",
            "  inflating: cotton/train/diseased cotton leaf/dis_leaf (56)_iaip.jpg  \n",
            "  inflating: cotton/train/diseased cotton leaf/dis_leaf (58)_iaip.jpg  \n",
            "  inflating: cotton/train/diseased cotton leaf/dis_leaf (6)_iaip.jpg  \n",
            "  inflating: cotton/train/diseased cotton leaf/dis_leaf (60)_iaip.jpg  \n",
            "  inflating: cotton/train/diseased cotton leaf/dis_leaf (62)_iaip.jpg  \n",
            "  inflating: cotton/train/diseased cotton leaf/dis_leaf (8)_iaip.jpg  \n",
            "  inflating: cotton/train/diseased cotton leaf/dis_leaf (9)_iaip.jpg  \n",
            "   creating: cotton/train/fresh cotton leaf/\n",
            "  inflating: cotton/train/fresh cotton leaf/d (1)_iaip.jpg  \n",
            "  inflating: cotton/train/fresh cotton leaf/d (10)_iaip.jpg  \n",
            "  inflating: cotton/train/fresh cotton leaf/d (12)_iaip.jpg  \n",
            "  inflating: cotton/train/fresh cotton leaf/d (13)_iaip.jpg  \n",
            "  inflating: cotton/train/fresh cotton leaf/d (14)_iaip.jpg  \n",
            "  inflating: cotton/train/fresh cotton leaf/d (15)_iaip.jpg  \n",
            "  inflating: cotton/train/fresh cotton leaf/d (16)_iaip.jpg  \n",
            "  inflating: cotton/train/fresh cotton leaf/d (17)_iaip.jpg  \n",
            "  inflating: cotton/train/fresh cotton leaf/d (18)_iaip.jpg  \n",
            "  inflating: cotton/train/fresh cotton leaf/d (19)_iaip.jpg  \n",
            "  inflating: cotton/train/fresh cotton leaf/d (2)_iaip.jpg  \n",
            "  inflating: cotton/train/fresh cotton leaf/d (20)_iaip.jpg  \n",
            "  inflating: cotton/train/fresh cotton leaf/d (21)_iaip.jpg  \n",
            "  inflating: cotton/train/fresh cotton leaf/d (22)_iaip.jpg  \n",
            "  inflating: cotton/train/fresh cotton leaf/d (23)_iaip.jpg  \n",
            "  inflating: cotton/train/fresh cotton leaf/d (25)_iaip.jpg  \n",
            "  inflating: cotton/train/fresh cotton leaf/d (27)_iaip.jpg  \n",
            "  inflating: cotton/train/fresh cotton leaf/d (28)_iaip.jpg  \n",
            "  inflating: cotton/train/fresh cotton leaf/d (29)_iaip.jpg  \n",
            "  inflating: cotton/train/fresh cotton leaf/d (3)_iaip.jpg  \n",
            "  inflating: cotton/train/fresh cotton leaf/d (31)_iaip.jpg  \n",
            "  inflating: cotton/train/fresh cotton leaf/d (32)_iaip.jpg  \n",
            "  inflating: cotton/train/fresh cotton leaf/d (33)_iaip.jpg  \n",
            "  inflating: cotton/train/fresh cotton leaf/d (34)_iaip.jpg  \n",
            "  inflating: cotton/train/fresh cotton leaf/d (35)_iaip.jpg  \n",
            "  inflating: cotton/train/fresh cotton leaf/d (36)_iaip.jpg  \n",
            "  inflating: cotton/train/fresh cotton leaf/d (37)_iaip.jpg  \n",
            "  inflating: cotton/train/fresh cotton leaf/d (39)_iaip.jpg  \n",
            "  inflating: cotton/train/fresh cotton leaf/d (4)_iaip.jpg  \n",
            "  inflating: cotton/train/fresh cotton leaf/d (41)_iaip.jpg  \n",
            "  inflating: cotton/train/fresh cotton leaf/d (42)_iaip.jpg  \n",
            "  inflating: cotton/train/fresh cotton leaf/d (43)_iaip.jpg  \n",
            "  inflating: cotton/train/fresh cotton leaf/d (44)_iaip.jpg  \n",
            "  inflating: cotton/train/fresh cotton leaf/d (45)_iaip.jpg  \n",
            "  inflating: cotton/train/fresh cotton leaf/d (46)_iaip.jpg  \n",
            "  inflating: cotton/train/fresh cotton leaf/d (47)_iaip.jpg  \n",
            "  inflating: cotton/train/fresh cotton leaf/d (48)_iaip.jpg  \n",
            "  inflating: cotton/train/fresh cotton leaf/d (49)_iaip.jpg  \n",
            "  inflating: cotton/train/fresh cotton leaf/d (5)_iaip.jpg  \n",
            "  inflating: cotton/train/fresh cotton leaf/d (50)_iaip.jpg  \n",
            "  inflating: cotton/train/fresh cotton leaf/d (502)_iaip.jpg  \n",
            "  inflating: cotton/train/fresh cotton leaf/d (503)_iaip.jpg  \n",
            "  inflating: cotton/train/fresh cotton leaf/d (504)_iaip.jpg  \n",
            "  inflating: cotton/train/fresh cotton leaf/d (505)_iaip.jpg  \n",
            "  inflating: cotton/train/fresh cotton leaf/d (506)_iaip.jpg  \n",
            "  inflating: cotton/train/fresh cotton leaf/d (51)_iaip.jpg  \n",
            "  inflating: cotton/train/fresh cotton leaf/d (52)_iaip.jpg  \n",
            "  inflating: cotton/train/fresh cotton leaf/d (53)_iaip.jpg  \n",
            "  inflating: cotton/train/fresh cotton leaf/d (55)_iaip.jpg  \n",
            "  inflating: cotton/train/fresh cotton leaf/d (57)_iaip.jpg  \n",
            "  inflating: cotton/train/fresh cotton leaf/d (58)_iaip.jpg  \n",
            "  inflating: cotton/train/fresh cotton leaf/d (59)_iaip.jpg  \n",
            "  inflating: cotton/train/fresh cotton leaf/d (6)_iaip.jpg  \n",
            "  inflating: cotton/train/fresh cotton leaf/d (60)_iaip.jpg  \n",
            "  inflating: cotton/train/fresh cotton leaf/d (64)_iaip.jpg  \n",
            "  inflating: cotton/train/fresh cotton leaf/d (65)_iaip.jpg  \n",
            "  inflating: cotton/train/fresh cotton leaf/d (66)_iaip.jpg  \n",
            "  inflating: cotton/train/fresh cotton leaf/d (68)_iaip.jpg  \n",
            "  inflating: cotton/train/fresh cotton leaf/d (69)_iaip.jpg  \n",
            "  inflating: cotton/train/fresh cotton leaf/dd (840)_iaip.jpg  \n"
          ]
        }
      ]
    },
    {
      "cell_type": "code",
      "source": [
        "import pathlib\n",
        "data_dir = pathlib.Path('/content/cotton/train') # make a directory \"data_dir\"/content/drive/MyDrive/DatesImages/DatesImages\n",
        "path = Path(data_dir)\n",
        "path.ls() #list all the folders of dates images.\n",
        "path"
      ],
      "metadata": {
        "colab": {
          "base_uri": "https://localhost:8080/"
        },
        "id": "oo0EizP_LVKD",
        "outputId": "14aaf66e-55a4-41d3-e02d-b18d352296cd"
      },
      "execution_count": 4,
      "outputs": [
        {
          "output_type": "execute_result",
          "data": {
            "text/plain": [
              "Path('/content/cotton/train')"
            ]
          },
          "metadata": {},
          "execution_count": 4
        }
      ]
    },
    {
      "cell_type": "code",
      "source": [
        "import pathlib\n",
        "data_dir1 = pathlib.Path('/content/cotton/test') # make a directory \"data_dir\"/content/drive/MyDrive/DatesImages/DatesImages\n",
        "path1 = Path(data_dir1)\n",
        "path1.ls() #list all the folders of dates images.\n",
        "path1"
      ],
      "metadata": {
        "colab": {
          "base_uri": "https://localhost:8080/"
        },
        "id": "V8ZkZiGULmk9",
        "outputId": "81968917-a826-4886-e6d4-e4c5904b9e15"
      },
      "execution_count": 5,
      "outputs": [
        {
          "output_type": "execute_result",
          "data": {
            "text/plain": [
              "Path('/content/cotton/test')"
            ]
          },
          "metadata": {},
          "execution_count": 5
        }
      ]
    },
    {
      "cell_type": "code",
      "execution_count": 6,
      "metadata": {
        "colab": {
          "base_uri": "https://localhost:8080/"
        },
        "id": "AtjvqWIlKAqr",
        "outputId": "3120ae51-7307-4026-b965-fdffd47c4aa7"
      },
      "outputs": [
        {
          "output_type": "stream",
          "name": "stdout",
          "text": [
            "number of all images in dataset: 122\n"
          ]
        }
      ],
      "source": [
        "def number_of_images_in_dataset(dataset):\n",
        "  images = list(dataset.glob(\"*/*.*\"))\n",
        "  return len(images)\n",
        "print(\"number of all images in dataset: {}\".format(number_of_images_in_dataset(data_dir)))"
      ]
    },
    {
      "cell_type": "code",
      "source": [
        "def number_of_images_in_dataset(dataset):\n",
        "  images = list(dataset.glob(\"*/*.*\"))\n",
        "  return len(images)\n",
        "print(\"number of all images in dataset: {}\".format(number_of_images_in_dataset(data_dir1)))"
      ],
      "metadata": {
        "colab": {
          "base_uri": "https://localhost:8080/"
        },
        "id": "kDqOU9o4LrWl",
        "outputId": "4a483acc-b4f0-42e1-cd70-88c9cdad3d37"
      },
      "execution_count": 7,
      "outputs": [
        {
          "output_type": "stream",
          "name": "stdout",
          "text": [
            "number of all images in dataset: 11\n"
          ]
        }
      ]
    },
    {
      "cell_type": "markdown",
      "source": [
        "### DATA PREPROCESSING"
      ],
      "metadata": {
        "id": "wObkXNM9ZWPJ"
      }
    },
    {
      "cell_type": "code",
      "source": [
        "# Define data preprocessing transformations\n",
        "transform = transforms.Compose([\n",
        "    transforms.RandomHorizontalFlip(),\n",
        "    transforms.RandomRotation(degrees=15),\n",
        "    transforms.RandomResizedCrop(size=(256, 256), scale=(0.8, 1.0)),\n",
        "    transforms.ColorJitter(brightness=0.2, contrast=0.2, saturation=0.2, hue=0.2),\n",
        "    transforms.ToTensor(),\n",
        "    transforms.Normalize(mean=[0.485, 0.456, 0.406], std=[0.229, 0.224, 0.225]),\n",
        "])\n"
      ],
      "metadata": {
        "id": "GoVASPTaL0IV"
      },
      "execution_count": 8,
      "outputs": []
    },
    {
      "cell_type": "markdown",
      "source": [
        "### DATASET LOADING"
      ],
      "metadata": {
        "id": "RmK8ztXMZZVY"
      }
    },
    {
      "cell_type": "code",
      "source": [
        "from torchvision.datasets import ImageFolder\n",
        "train_dataset = ImageFolder(root=data_dir, transform=transform)\n",
        "test_dataset = ImageFolder(root=data_dir1, transform=transform)"
      ],
      "metadata": {
        "id": "-hk2BEF7OH3J"
      },
      "execution_count": 9,
      "outputs": []
    },
    {
      "cell_type": "code",
      "source": [
        "# Create DataLoader for training\n",
        "train_loader = DataLoader(train_dataset, batch_size=2, shuffle=True)\n",
        "val_loader = DataLoader(test_dataset, batch_size=2)"
      ],
      "metadata": {
        "id": "iYyicac4L0RN"
      },
      "execution_count": 10,
      "outputs": []
    },
    {
      "cell_type": "code",
      "source": [
        "num_classes = 2"
      ],
      "metadata": {
        "id": "4Z5SlWWvOvly"
      },
      "execution_count": 11,
      "outputs": []
    },
    {
      "cell_type": "markdown",
      "source": [
        "### SIMPLE CNN ARCHITECTURE"
      ],
      "metadata": {
        "id": "RSj-0q2av6kO"
      }
    },
    {
      "cell_type": "code",
      "source": [
        "# Define your CNN model\n",
        "class SimpleCNN(nn.Module):\n",
        "    def __init__(self):\n",
        "        super(SimpleCNN, self).__init__()\n",
        "        self.conv1 = nn.Conv2d(3, 16, kernel_size=3, padding=1)\n",
        "        self.pool = nn.MaxPool2d(kernel_size=2, stride=2)\n",
        "        self.fc1 = nn.Linear(16 * 128 * 128, 64)\n",
        "        self.fc2 = nn.Linear(64, 2)  # Assuming 'num_classes' is the number of classes in your dataset\n",
        "\n",
        "    def forward(self, x):\n",
        "        x = self.pool(torch.relu(self.conv1(x)))\n",
        "        x = x.view(-1, 16 * 128 * 128)\n",
        "        x = torch.relu(self.fc1(x))\n",
        "        x = self.fc2(x)\n",
        "        return x\n",
        "\n",
        "model1 = SimpleCNN()"
      ],
      "metadata": {
        "id": "91ASuV05v6AQ"
      },
      "execution_count": 21,
      "outputs": []
    },
    {
      "cell_type": "code",
      "source": [
        "# Define loss function and optimizer\n",
        "criterion = nn.CrossEntropyLoss()\n",
        "optimizer = optim.RMSprop(model1.parameters(), lr=0.0001)"
      ],
      "metadata": {
        "id": "ap8VoX8twVS_"
      },
      "execution_count": 22,
      "outputs": []
    },
    {
      "cell_type": "code",
      "source": [
        "# Training loop\n",
        "num_epochs = 10\n",
        "for epoch in range(num_epochs):\n",
        "    model1.train()\n",
        "    running_loss = 0.0\n",
        "    for images, labels in train_loader:\n",
        "        optimizer.zero_grad()\n",
        "        outputs = model1(images)\n",
        "        loss = criterion(outputs, labels)\n",
        "        loss.backward()\n",
        "        optimizer.step()\n",
        "        running_loss += loss.item()\n",
        "\n",
        "    # Print training loss for this epoch\n",
        "    print(f\"Epoch {epoch+1}, Loss: {running_loss / len(train_loader)}\")"
      ],
      "metadata": {
        "colab": {
          "base_uri": "https://localhost:8080/"
        },
        "id": "zEHzfpr5wVWH",
        "outputId": "4198a008-98a4-4f79-ff25-f45223cb3c68"
      },
      "execution_count": 23,
      "outputs": [
        {
          "output_type": "stream",
          "name": "stdout",
          "text": [
            "Epoch 1, Loss: 3.5369151821207314\n",
            "Epoch 2, Loss: 0.7434378186790426\n",
            "Epoch 3, Loss: 0.7865716178641945\n",
            "Epoch 4, Loss: 0.6610827944317802\n",
            "Epoch 5, Loss: 0.6095001801359848\n",
            "Epoch 6, Loss: 0.5765563932354333\n",
            "Epoch 7, Loss: 0.578588598331467\n",
            "Epoch 8, Loss: 0.5335953703424969\n",
            "Epoch 9, Loss: 0.5330694446065387\n",
            "Epoch 10, Loss: 0.5179832040286455\n"
          ]
        }
      ]
    },
    {
      "cell_type": "code",
      "source": [
        "# Evaluation\n",
        "model1.eval()\n",
        "correct = 0\n",
        "total = 0\n",
        "with torch.no_grad():\n",
        "    for images, labels in val_loader:\n",
        "        outputs = model1(images)\n",
        "        _, predicted = torch.max(outputs.data, 1)\n",
        "        total += labels.size(0)\n",
        "        correct += (predicted == labels).sum().item()\n",
        "\n",
        "print(f\"Accuracy on validation data: {100 * correct / total}%\")"
      ],
      "metadata": {
        "colab": {
          "base_uri": "https://localhost:8080/"
        },
        "id": "g_GI014awVZX",
        "outputId": "a01a6266-c91a-4f34-fa34-c4b6c75d40a6"
      },
      "execution_count": 24,
      "outputs": [
        {
          "output_type": "stream",
          "name": "stdout",
          "text": [
            "Accuracy on validation data: 81.81818181818181%\n"
          ]
        }
      ]
    },
    {
      "cell_type": "markdown",
      "source": [
        "### USING RESNE18 ARCHITECTURE\n",
        "\n",
        "ResNet-18 is a convolutional neural network that is 18 layers deep. We can load a pretrained version of the network trained on more than a million images from the ImageNet database. The pretrained network can classify images into 1000 object categories, such as keyboard, mouse, pencil, and many animals. As a result, the network has learned rich feature representations for a wide range of images. So in our problem statement the pretrained model will divide into two categories disease or normal plant.\n",
        "\n"
      ],
      "metadata": {
        "id": "ziQrPCTeZgOR"
      }
    },
    {
      "cell_type": "markdown",
      "source": [
        "![Original-ResNet-18-Architecture.png](data:image/png;base64,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)"
      ],
      "metadata": {
        "id": "gOayZdhdyF2N"
      }
    },
    {
      "cell_type": "code",
      "source": [
        "# Load a pre-trained ResNet model\n",
        "pretrained_resnet = models.resnet18(pretrained=True)"
      ],
      "metadata": {
        "colab": {
          "base_uri": "https://localhost:8080/"
        },
        "id": "nWq7TkeZsXrc",
        "outputId": "12a9030c-c336-42bc-ba54-c41bcd9b43fa"
      },
      "execution_count": 12,
      "outputs": [
        {
          "output_type": "stream",
          "name": "stderr",
          "text": [
            "/usr/local/lib/python3.10/dist-packages/torchvision/models/_utils.py:208: UserWarning: The parameter 'pretrained' is deprecated since 0.13 and may be removed in the future, please use 'weights' instead.\n",
            "  warnings.warn(\n",
            "/usr/local/lib/python3.10/dist-packages/torchvision/models/_utils.py:223: UserWarning: Arguments other than a weight enum or `None` for 'weights' are deprecated since 0.13 and may be removed in the future. The current behavior is equivalent to passing `weights=ResNet18_Weights.IMAGENET1K_V1`. You can also use `weights=ResNet18_Weights.DEFAULT` to get the most up-to-date weights.\n",
            "  warnings.warn(msg)\n",
            "Downloading: \"https://download.pytorch.org/models/resnet18-f37072fd.pth\" to /root/.cache/torch/hub/checkpoints/resnet18-f37072fd.pth\n",
            "100%|██████████| 44.7M/44.7M [00:00<00:00, 164MB/s]\n"
          ]
        }
      ]
    },
    {
      "cell_type": "code",
      "source": [
        "num_classes = 2  # Replace with your actual number of classes\n",
        "pretrained_resnet.fc = torch.nn.Linear(pretrained_resnet.fc.in_features, num_classes)"
      ],
      "metadata": {
        "id": "ucsdyLQttgVD"
      },
      "execution_count": 13,
      "outputs": []
    },
    {
      "cell_type": "code",
      "source": [
        "model = pretrained_resnet"
      ],
      "metadata": {
        "id": "bbmJYgoBtpax"
      },
      "execution_count": 14,
      "outputs": []
    },
    {
      "cell_type": "code",
      "source": [
        "# Define loss function and optimizer\n",
        "criterion = nn.CrossEntropyLoss()\n",
        "optimizer = optim.RMSprop(model.parameters(), lr=0.0001)"
      ],
      "metadata": {
        "id": "97oWWxo5Nts8"
      },
      "execution_count": 15,
      "outputs": []
    },
    {
      "cell_type": "code",
      "source": [
        "# Training loop\n",
        "num_epochs = 10\n",
        "for epoch in range(num_epochs):\n",
        "    model.train()\n",
        "    running_loss = 0.0\n",
        "    for images, labels in train_loader:\n",
        "        optimizer.zero_grad()\n",
        "        outputs = model(images)\n",
        "        loss = criterion(outputs, labels)\n",
        "        loss.backward()\n",
        "        optimizer.step()\n",
        "        running_loss += loss.item()\n",
        "\n",
        "    # Print training loss for this epoch\n",
        "    print(f\"Epoch {epoch+1}, Loss: {running_loss / len(train_loader)}\")"
      ],
      "metadata": {
        "colab": {
          "base_uri": "https://localhost:8080/"
        },
        "id": "XFy1KTO1NtxK",
        "outputId": "5f04380c-1875-4c54-af2b-da88a784b56e"
      },
      "execution_count": 16,
      "outputs": [
        {
          "output_type": "stream",
          "name": "stdout",
          "text": [
            "Epoch 1, Loss: 0.7243940035400332\n",
            "Epoch 2, Loss: 0.5429670881235698\n",
            "Epoch 3, Loss: 0.4580154325813055\n",
            "Epoch 4, Loss: 0.39316648974648266\n",
            "Epoch 5, Loss: 0.31192804340151004\n",
            "Epoch 6, Loss: 0.4285757764563209\n",
            "Epoch 7, Loss: 0.3815549931901156\n",
            "Epoch 8, Loss: 0.3338300598571535\n",
            "Epoch 9, Loss: 0.26894781207207774\n",
            "Epoch 10, Loss: 0.2591691752590361\n"
          ]
        }
      ]
    },
    {
      "cell_type": "code",
      "source": [
        "# Evaluation\n",
        "model.eval()\n",
        "correct = 0\n",
        "total = 0\n",
        "with torch.no_grad():\n",
        "    for images, labels in val_loader:\n",
        "        outputs = model(images)\n",
        "        _, predicted = torch.max(outputs.data, 1)\n",
        "        total += labels.size(0)\n",
        "        correct += (predicted == labels).sum().item()\n",
        "\n",
        "print(f\"Accuracy on validation data: {100 * correct / total}%\")"
      ],
      "metadata": {
        "colab": {
          "base_uri": "https://localhost:8080/"
        },
        "id": "NZG9efwwNt0y",
        "outputId": "ab43acc2-1200-49f2-b908-6c9ec0a1b59a"
      },
      "execution_count": 17,
      "outputs": [
        {
          "output_type": "stream",
          "name": "stdout",
          "text": [
            "Accuracy on validation data: 100.0%\n"
          ]
        }
      ]
    },
    {
      "cell_type": "markdown",
      "source": [
        "###Observations:\n",
        "1. Using simple CNN, the model achieved 81.8% accuracy.\n",
        "2. Using resnet18, the model got 100% accuracy."
      ],
      "metadata": {
        "id": "rJno91HsyMKd"
      }
    },
    {
      "cell_type": "markdown",
      "source": [
        "##Comparison:\n",
        "\n",
        "###Simple CNN:\n",
        "####Pros:\n",
        "Simplicity: Simple to define and train.\n",
        "####Cons:\n",
        "Limited Capacity: Simple CNNs may not capture complex patterns and hierarchical features as effectively as deeper architectures like ResNet.\n",
        "Limited Performance: For some tasks, a simple CNN may not achieve high accuracy due to its limited capacity.\n",
        "\n",
        "\n",
        "###ResNet-18:\n",
        "####Pros:\n",
        "Deep Architecture: ResNet-18 is a deep convolutional neural network architecture that can capture complex hierarchical features in data.\n",
        "Residual Blocks: Residual connections help mitigate the vanishing gradient problem, allowing for training very deep networks.\n",
        "State-of-the-Art Performance: ResNet-18, pretrained on ImageNet, provides strong performance as a feature extractor.\n",
        "####Cons:\n",
        "Complexity: ResNet-18 has a more complex architecture, which may require more computational resources for training.\n",
        "\n",
        "\n"
      ],
      "metadata": {
        "id": "wiJT8oqRzXnd"
      }
    },
    {
      "cell_type": "markdown",
      "source": [
        "\n",
        "### Comparison Summary : The ResNet-18 model's superior performance is likely due to its deeper architecture, which can capture more intricate patterns and features in the data."
      ],
      "metadata": {
        "id": "5IvNmKLezrm1"
      }
    },
    {
      "cell_type": "markdown",
      "source": [
        "### Model Evaluation"
      ],
      "metadata": {
        "id": "NwDjxpFHR6Ga"
      }
    },
    {
      "cell_type": "code",
      "source": [
        "import torch\n",
        "from torchvision import transforms\n",
        "from PIL import Image\n",
        "\n",
        "# Define the same transform used for training and validation\n",
        "transform = transforms.Compose([\n",
        "    transforms.RandomHorizontalFlip(),\n",
        "    transforms.RandomRotation(degrees=15),\n",
        "    transforms.RandomResizedCrop(size=(256, 256), scale=(0.8, 1.0)),\n",
        "    transforms.ColorJitter(brightness=0.2, contrast=0.2, saturation=0.2, hue=0.2),\n",
        "    transforms.ToTensor(),\n",
        "    transforms.Normalize(mean=[0.485, 0.456, 0.406], std=[0.229, 0.224, 0.225]),\n",
        "])\n",
        "\n",
        "# Load the sample image and apply the same transform\n",
        "sample_image_path = '/content/cotton/test/fresh cotton leaf/d (61)_iaip - Copy.jpg'\n",
        "sample_image = Image.open(sample_image_path)\n",
        "sample_image = transform(sample_image).unsqueeze(0)  # Add a batch dimension\n",
        "\n",
        "# Load the trained model\n",
        "\n",
        "# Create an instance of your model\n",
        "\n",
        "model.eval()  # Set the model to evaluation mode\n",
        "\n",
        "# Make predictions on the sample image\n",
        "with torch.no_grad():\n",
        "    output = model(sample_image)\n",
        "\n",
        "# Assuming output is a tensor of shape (1, num_classes), where num_classes is the number of classes in your dataset\n",
        "# You can convert it to class probabilities using softmax\n",
        "import torch.nn.functional as F\n",
        "probabilities = F.softmax(output, dim=1)\n",
        "\n",
        "# Get the predicted class label\n",
        "_, predicted_class = torch.max(output, 1)\n",
        "\n",
        "# Define class names\n",
        "class_names = ['Disease', 'Normal']\n",
        "\n",
        "# Map the predicted class index to the class name\n",
        "predicted_class_name = class_names[predicted_class.item()]\n",
        "\n",
        "print(f\"The Predicted Class is : {predicted_class_name}\")\n"
      ],
      "metadata": {
        "colab": {
          "base_uri": "https://localhost:8080/"
        },
        "id": "ixzLV-fPL0ZN",
        "outputId": "9e4e5ef6-55d8-4f24-a242-f7481ccb180f"
      },
      "execution_count": 19,
      "outputs": [
        {
          "output_type": "stream",
          "name": "stdout",
          "text": [
            "The Predicted Class is : Normal\n"
          ]
        }
      ]
    },
    {
      "cell_type": "code",
      "source": [
        "import torch\n",
        "from torchvision import transforms\n",
        "from PIL import Image\n",
        "\n",
        "# Define the same transform used for training and validation\n",
        "transform = transforms.Compose([\n",
        "    transforms.RandomHorizontalFlip(),\n",
        "    transforms.RandomRotation(degrees=15),\n",
        "    transforms.RandomResizedCrop(size=(256, 256), scale=(0.8, 1.0)),\n",
        "    transforms.ColorJitter(brightness=0.2, contrast=0.2, saturation=0.2, hue=0.2),\n",
        "    transforms.ToTensor(),\n",
        "    transforms.Normalize(mean=[0.485, 0.456, 0.406], std=[0.229, 0.224, 0.225]),\n",
        "])\n",
        "\n",
        "# Load the sample image and apply the same transform\n",
        "sample_image_path = '/content/cotton/train/diseased cotton leaf/dis_leaf (24)_iaip.jpg'\n",
        "sample_image = Image.open(sample_image_path)\n",
        "sample_image = transform(sample_image).unsqueeze(0)  # Add a batch dimension\n",
        "\n",
        "# Load the trained model\n",
        "# Create an instance of your model\n",
        "\n",
        "model.eval()  # Set the model to evaluation mode\n",
        "\n",
        "# Make predictions on the sample image\n",
        "with torch.no_grad():\n",
        "    output = model(sample_image)\n",
        "\n",
        "# Assuming output is a tensor of shape (1, num_classes), where num_classes is the number of classes in your dataset\n",
        "# You can convert it to class probabilities using softmax\n",
        "import torch.nn.functional as F\n",
        "probabilities = F.softmax(output, dim=1)\n",
        "\n",
        "# Get the predicted class label\n",
        "_, predicted_class = torch.max(output, 1)\n",
        "\n",
        "# Define class names\n",
        "class_names = ['Disease', 'Normal']\n",
        "\n",
        "# Map the predicted class index to the class name\n",
        "predicted_class_name = class_names[predicted_class.item()]\n",
        "\n",
        "print(f\"The Predicted Class is : {predicted_class_name}\")\n"
      ],
      "metadata": {
        "colab": {
          "base_uri": "https://localhost:8080/"
        },
        "id": "GFwrH3NERymS",
        "outputId": "c8a7700e-c211-4e6d-833f-476166ec0671"
      },
      "execution_count": 20,
      "outputs": [
        {
          "output_type": "stream",
          "name": "stdout",
          "text": [
            "The Predicted Class is : Disease\n"
          ]
        }
      ]
    }
  ],
  "metadata": {
    "accelerator": "GPU",
    "colab": {
      "provenance": []
    },
    "gpuClass": "standard",
    "kernelspec": {
      "display_name": "Python 3",
      "name": "python3"
    },
    "language_info": {
      "name": "python"
    }
  },
  "nbformat": 4,
  "nbformat_minor": 0
}